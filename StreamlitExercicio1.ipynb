{
  "nbformat": 4,
  "nbformat_minor": 0,
  "metadata": {
    "colab": {
      "provenance": [],
      "authorship_tag": "ABX9TyPTcjssTiak/PZN3O6BHsug",
      "include_colab_link": true
    },
    "kernelspec": {
      "name": "python3",
      "display_name": "Python 3"
    },
    "language_info": {
      "name": "python"
    }
  },
  "cells": [
    {
      "cell_type": "markdown",
      "metadata": {
        "id": "view-in-github",
        "colab_type": "text"
      },
      "source": [
        "<a href=\"https://colab.research.google.com/github/naubergois/streamlitcurso/blob/main/StreamlitExercicio1.ipynb\" target=\"_parent\"><img src=\"https://colab.research.google.com/assets/colab-badge.svg\" alt=\"Open In Colab\"/></a>"
      ]
    },
    {
      "cell_type": "code",
      "execution_count": null,
      "metadata": {
        "id": "-C0lMNad_SH5"
      },
      "outputs": [],
      "source": [
        "# Exercícios com Streamlit para exibição de DataFrames\n",
        "\n",
        "# Exercício 1: Exibir um DataFrame usando st.write\n",
        "# -------------------------------------------------\n",
        "# Descrição: Neste exercício, você deve criar um DataFrame simples\n",
        "# e exibi-lo utilizando a função st.write do Streamlit.\n",
        "\n",
        "import streamlit as st\n",
        "import pandas as pd\n",
        "\n",
        "# Criando o DataFrame\n",
        "data = {\n",
        "    'Nome': ['Alice', 'Bob', 'Charlie'],\n",
        "    'Idade': [25, 30, 35],\n",
        "    'Profissão': ['Engenheira', 'Médico', 'Advogado']\n",
        "}\n",
        "df = pd.DataFrame(data)\n",
        "\n",
        "# Usando st.write para exibir o DataFrame\n",
        "st.write(\"Exemplo de DataFrame utilizando `st.write`:\")\n",
        "st.write(df)\n",
        "\n",
        "# Exercício 2: Exibir um DataFrame usando st.dataframe\n",
        "# ----------------------------------------------------\n",
        "# Descrição: Neste exercício, você deve criar outro DataFrame\n",
        "# e exibi-lo utilizando a função st.dataframe do Streamlit.\n",
        "\n",
        "# Criando um novo DataFrame\n",
        "data2 = {\n",
        "    'Produto': ['Notebook', 'Teclado', 'Mouse'],\n",
        "    'Preço': [3000, 150, 80],\n",
        "    'Quantidade': [5, 10, 15]\n",
        "}\n",
        "df2 = pd.DataFrame(data2)\n",
        "\n",
        "# Usando st.dataframe para exibir o DataFrame\n",
        "st.write(\"Exemplo de DataFrame utilizando `st.dataframe`:\")\n",
        "st.dataframe(df2)\n",
        "\n",
        "# Exercício 3: Exibir uma tabela usando st.table\n",
        "# ----------------------------------------------\n",
        "# Descrição: Neste exercício, você deve criar um terceiro DataFrame\n",
        "# e exibi-lo como uma tabela utilizando a função st.table do Streamlit.\n",
        "\n",
        "# Criando um terceiro DataFrame\n",
        "data3 = {\n",
        "    'Cidade': ['São Paulo', 'Rio de Janeiro', 'Curitiba'],\n",
        "    'População': [12300000, 6748000, 1949000],\n",
        "    'Área (km²)': [1521, 1200, 430]\n",
        "}\n",
        "df3 = pd.DataFrame(data3)\n",
        "\n",
        "# Usando st.table para exibir a tabela\n",
        "st.write(\"Exemplo de DataFrame utilizando `st.table`:\")\n",
        "st.table(df3)\n",
        "\n"
      ]
    }
  ]
}