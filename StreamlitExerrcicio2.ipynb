{
  "nbformat": 4,
  "nbformat_minor": 0,
  "metadata": {
    "colab": {
      "provenance": [],
      "authorship_tag": "ABX9TyO6J6lRLGxqleboxrMXEymC",
      "include_colab_link": true
    },
    "kernelspec": {
      "name": "python3",
      "display_name": "Python 3"
    },
    "language_info": {
      "name": "python"
    }
  },
  "cells": [
    {
      "cell_type": "markdown",
      "metadata": {
        "id": "view-in-github",
        "colab_type": "text"
      },
      "source": [
        "<a href=\"https://colab.research.google.com/github/naubergois/streamlitcurso/blob/main/StreamlitExerrcicio2.ipynb\" target=\"_parent\"><img src=\"https://colab.research.google.com/assets/colab-badge.svg\" alt=\"Open In Colab\"/></a>"
      ]
    },
    {
      "cell_type": "code",
      "execution_count": null,
      "metadata": {
        "id": "gru1WYqFBMc-"
      },
      "outputs": [],
      "source": [
        "import streamlit as st\n",
        "import pandas as pd\n",
        "import numpy as np\n",
        "import matplotlib.pyplot as plt\n",
        "\n",
        "# Título do App\n",
        "st.title(\"Exercício 2: Explorando Funcionalidades Avançadas do Streamlit\")\n",
        "\n",
        "# Seção 1: Gerando dados aleatórios\n",
        "st.header(\"Seção 1: Gerando e Visualizando Dados Aleatórios\")\n",
        "\n",
        "# Criando um DataFrame de dados aleatórios\n",
        "n = st.slider(\"Selecione o número de dados:\", 10, 100, 50)  # Slider para selecionar o tamanho dos dados\n",
        "data = np.random.randn(n, 2)  # Gerando dados aleatórios\n",
        "df_random = pd.DataFrame(data, columns=['X', 'Y'])\n",
        "\n",
        "st.write(\"Dados Gerados Aleatoriamente:\")\n",
        "st.dataframe(df_random)\n",
        "\n",
        "# Seção 2: Visualizando dados com gráficos\n",
        "st.header(\"Seção 2: Visualizando Dados com Gráficos\")\n",
        "\n",
        "# Opções para escolher o tipo de gráfico\n",
        "chart_type = st.selectbox(\"Selecione o tipo de gráfico:\", [\"Histograma\", \"Gráfico de Dispersão\"])\n",
        "\n",
        "if chart_type == \"Histograma\":\n",
        "    st.write(\"Histograma dos dados gerados:\")\n",
        "    plt.hist(df_random['X'], bins=15, alpha=0.7, label='X')\n",
        "    plt.hist(df_random['Y'], bins=15, alpha=0.7, label='Y')\n",
        "    plt.legend()\n",
        "    st.pyplot(plt)\n",
        "elif chart_type == \"Gráfico de Dispersão\":\n",
        "    st.write(\"Gráfico de Dispersão dos dados gerados:\")\n",
        "    plt.scatter(df_random['X'], df_random['Y'])\n",
        "    plt.xlabel('X')\n",
        "    plt.ylabel('Y')\n",
        "    st.pyplot(plt)\n",
        "\n",
        "# Seção 3: Carregando e processando um arquivo CSV\n",
        "st.header(\"Seção 3: Carregando e Processando Arquivo CSV\")\n",
        "\n",
        "# Upload de arquivo CSV\n",
        "uploaded_file = st.file_uploader(\"Escolha um arquivo CSV\", type=\"csv\")\n",
        "\n",
        "if uploaded_file is not None:\n",
        "    df_csv = pd.read_csv(uploaded_file)\n",
        "    st.write(\"Dados do arquivo CSV:\")\n",
        "    st.dataframe(df_csv)\n",
        "\n",
        "    # Exemplo de processamento: calculando a média de uma coluna\n",
        "    selected_column = st.selectbox(\"Selecione a coluna para calcular a média:\", df_csv.columns)\n",
        "    if selected_column:\n",
        "        mean_value = df_csv[selected_column].mean()\n",
        "        st.write(f\"A média da coluna '{selected_column}' é {mean_value:.2f}\")\n",
        "\n",
        "    # Adicionando a opção de salvar o arquivo CSV\n",
        "    st.header(\"Salvar DataFrame como CSV\")\n",
        "    if st.button(\"Salvar CSV\"):\n",
        "        df_csv.to_csv(\"dados_salvos.csv\", index=False)\n",
        "        st.success(\"Arquivo CSV salvo como 'dados_salvos.csv'\")\n",
        "\n",
        "# Seção 4: Input e exibição de texto\n",
        "st.header(\"Seção 4: Entrada de Texto\")\n",
        "\n",
        "# Entrada de texto\n",
        "user_input = st.text_input(\"Digite algo:\")\n",
        "if user_input:\n",
        "    st.write(f\"Você digitou: {user_input}\")\n"
      ]
    }
  ]
}